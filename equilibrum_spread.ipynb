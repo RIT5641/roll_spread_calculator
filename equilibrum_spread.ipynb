{
 "cells": [
  {
   "cell_type": "markdown",
   "id": "e1ef5c70",
   "metadata": {},
   "source": [
    "## Ejercicio\n",
    "\n",
    "Calcular el **spread de equilibrio** $$ S = a - b $$ bajo la condición de **beneficio esperado cero** para el *market maker*:\n",
    "\n",
    "$$\n",
    "\\Pi(a, b) = 0\n",
    "$$\n",
    "\n",
    "---\n",
    "\n",
    "## Supuestos\n",
    "\n",
    "- El valor del activo $$ V \\sim \\mathcal{N}(\\mu, \\sigma^2) $$\n",
    "- Proporción de traders informados: $ \\pi $\n",
    "- El market maker fija:\n",
    "  - Bid: $ b = \\mu - \\frac{S}{2} $\n",
    "  - Ask: $a = \\mu + \\frac{S}{2} $\n",
    "\n",
    "---\n",
    "\n",
    "## Fórmulas clave\n",
    "\n",
    "Para una normal $$ \\mathcal{N}(\\mu, \\sigma^2) $$:\n",
    "\n",
    "- **Cola derecha** (condicional a $ V > a $):\n",
    "\n",
    "$$\n",
    "\\mathbb{E}[V \\mid V > a] = \\mu + \\sigma \\cdot \\frac{\\phi(z)}{1 - \\Phi(z)} \\quad \\text{donde } z = \\frac{a - \\mu}{\\sigma}\n",
    "$$\n",
    "\n",
    "- **Cola izquierda** (condicional a $ V < b $):\n",
    "\n",
    "$$\n",
    "\\mathbb{E}[V \\mid V < b] = \\mu - \\sigma \\cdot \\frac{\\phi(z)}{\\Phi(z)} \\quad \\text{donde } z = \\frac{\\mu - b}{\\sigma}\n",
    "$$\n",
    "\n",
    "Donde:\n",
    "\n",
    "- $ \\phi(z) $: función de densidad de la normal estándar:\n",
    "\n",
    "\n",
    "$$\n",
    "\\phi(z) = \\frac{1}{\\sqrt{2\\pi}} e^{-z^2/2}\n",
    "$$\n",
    "\n",
    "\n",
    "- $ \\Phi(z) $: función de distribución acumulada de la normal estándar.\n"
   ]
  },
  {
   "cell_type": "code",
   "id": "e8058f99-1be7-4f2f-b2f7-d4df2b1bdd5b",
   "metadata": {
    "ExecuteTime": {
     "end_time": "2025-05-29T14:29:54.623830Z",
     "start_time": "2025-05-29T14:29:53.930088Z"
    }
   },
   "source": [
    "import numpy as np\n",
    "from scipy.stats import norm\n",
    "from scipy.optimize import fsolve\n",
    "\n",
    "# Parámetros del modelo\n",
    "mu = 100           # Valor medio del activo\n",
    "sigma = 10         # Desviación estándar del valor\n",
    "pi = 0.3           # Probabilidad de trader informado\n",
    "\n",
    "# Función de beneficio esperado (que queremos igualar a cero)\n",
    "def expected_profit(S):\n",
    "    a = mu + S / 2\n",
    "    b = mu - S / 2\n",
    "\n",
    "    z_a = (a - mu) / sigma\n",
    "    z_b = (mu - b) / sigma\n",
    "\n",
    "    E_V_gt_a = mu + sigma * norm.pdf(z_a) / (1 - norm.cdf(z_a))\n",
    "    E_V_lt_b = mu - sigma * norm.pdf(z_b) / norm.cdf(z_b)\n",
    "\n",
    "    profit_ask = (1 - pi)*(a - mu) + pi*(a - E_V_gt_a)\n",
    "    profit_bid = (1 - pi)*(mu - b) + pi*(E_V_lt_b - b)\n",
    "\n",
    "    expected_profit = 0.5 * (profit_ask + profit_bid)\n",
    "    return expected_profit\n",
    "\n",
    "# Resolver el spread de equilibrio (donde beneficio esperado = 0)\n",
    "initial_guess = 1.0\n",
    "spread_equilibrium = fsolve(expected_profit, initial_guess)[0]\n",
    "\n",
    "# Calcular precios de bid y ask\n",
    "ask = mu + spread_equilibrium / 2\n",
    "bid = mu - spread_equilibrium / 2\n",
    "\n",
    "print(f\"Spread de equilibrio: {spread_equilibrium:.4f}\")\n",
    "print(f\"Precio Ask: {ask:.4f}\")\n",
    "print(f\"Precio Bid: {bid:.4f}\")\n"
   ],
   "outputs": [
    {
     "name": "stdout",
     "output_type": "stream",
     "text": [
      "Spread de equilibrio: 4.8254\n",
      "Precio Ask: 102.4127\n",
      "Precio Bid: 97.5873\n"
     ]
    }
   ],
   "execution_count": 1
  },
  {
   "metadata": {},
   "cell_type": "code",
   "outputs": [],
   "execution_count": null,
   "source": "",
   "id": "5f7815dbe339150f"
  },
  {
   "metadata": {},
   "cell_type": "markdown",
   "source": "Tenemos que encontrar el precio del equilibrio que compensa el Riesgo. Encontrar un S que haga la función 0.\n",
   "id": "8b591d5994453d2f"
  }
 ],
 "metadata": {
  "kernelspec": {
   "display_name": "Python 3 (ipykernel)",
   "language": "python",
   "name": "python3"
  },
  "language_info": {
   "codemirror_mode": {
    "name": "ipython",
    "version": 3
   },
   "file_extension": ".py",
   "mimetype": "text/x-python",
   "name": "python",
   "nbconvert_exporter": "python",
   "pygments_lexer": "ipython3",
   "version": "3.13.0"
  }
 },
 "nbformat": 4,
 "nbformat_minor": 5
}
